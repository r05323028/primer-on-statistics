{
 "cells": [
  {
   "cell_type": "markdown",
   "source": [
    "# 大數法則與中央極限定理\n",
    "\n",
    "## 弱大數法則\n",
    "\n",
    "```{admonition} 定義\n",
    "隨機樣本 $X_1, X_2, ..., X_n \\overset{i.i.d.}{\\sim} f_X(x)$ ，滿足以下式子\n",
    "\n",
    "$$\n",
    "\\bar{X} \\overset{P}{\\rightarrow} \\mu \\hspace{1em} as \\hspace{1em} n \\rightarrow \\infty\n",
    "$$\n",
    "\n",
    "表示**樣本平均數機率收斂於母體期望值**，其中 $\\bar{X}$ 為樣本平均數， $\\mu$ 為母體期望值， $f_X(x)$ 為任意分配。也可以表示成\n",
    "\n",
    "$$\n",
    "\\lim_{n \\rightarrow \\infty} \\mathbb{P}(|\\bar{X} - \\mu| > \\epsilon) = 0\n",
    "$$\n",
    "\n",
    "上面的式子表示：當樣本數 $n$ 趨近於無窮時，其**樣本平均數 $\\bar{X}$ 跟母體期望值 $\\mu$ 的差距**要大於一個很小的數 $\\epsilon$ 的機率為0，代表`樣本平均數幾乎等於母體平均數`。\n",
    "```\n",
    "\n",
    "- 弱大數法則在講的是**樣本平均數**會機率收斂於**母體期望值**，所以**母體期望值**不存在的分配就不適用，如：柯西分配。\n",
    "\n",
    "以指數分配為例，隨機樣本 $X_1, X_2, ..., X_n \\overset{i.i.d.}{\\sim} \\mathcal{Exp}(\\lambda)$ ，其母體期望值 $\\mu = \\frac{1}{\\lambda}$ 。\n",
    "\n",
    "我們會針對不同的 $n$ ，各模擬1000次的樣本平均數 $\\bar{X}$ ，並得到**樣本平均數的抽樣分配**。"
   ],
   "metadata": {}
  },
  {
   "cell_type": "code",
   "execution_count": null,
   "source": [
    "import numpy as np\n",
    "import scipy.stats as stats\n",
    "from plotly.subplots import make_subplots\n",
    "import plotly.graph_objects as go\n",
    "\n",
    "n_sample = 1000\n",
    "lmbd = 5\n",
    "ns = [[3, 10], [100, 10000]]\n",
    "\n",
    "fig = make_subplots(\n",
    "    rows=2,\n",
    "    cols=2,\n",
    "    shared_xaxes=True\n",
    ")\n",
    "mean = stats.expon.mean(scale=1 / lmbd)\n",
    "\n",
    "for i, row in enumerate(ns, start=1):\n",
    "    for j, col in enumerate(row, start=1):\n",
    "        sample_means = []\n",
    "\n",
    "        for _ in range(n_sample):\n",
    "            sample_means.append(\n",
    "                np.mean(stats.expon(scale=1 / lmbd).rvs(size=col)))\n",
    "\n",
    "        hist = go.Histogram(x=sample_means, name=f'$n = {col}$')\n",
    "        fig.add_trace(hist, row=i, col=j)\n",
    "        fig.add_vline(x=mean, row=i, col=j)\n",
    "\n",
    "fig.update_layout(title={'text': '指數分配的樣本平均數抽樣分配'})\n",
    "fig\n"
   ],
   "outputs": [],
   "metadata": {}
  },
  {
   "cell_type": "markdown",
   "source": [
    "## 中央極限定理\n",
    "\n"
   ],
   "metadata": {}
  }
 ],
 "metadata": {
  "orig_nbformat": 4,
  "language_info": {
   "name": "python"
  }
 },
 "nbformat": 4,
 "nbformat_minor": 2
}