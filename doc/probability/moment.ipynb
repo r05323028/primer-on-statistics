{
 "cells": [
  {
   "cell_type": "markdown",
   "source": [
    "# 期望值、變異數、偏峰態與動差"
   ],
   "metadata": {}
  },
  {
   "cell_type": "markdown",
   "source": [
    "## 期望值\n",
    "\n",
    "````{tab} 離散型隨機變數\n",
    "```{admonition} 定義\n",
    "離散型隨機變數 $X$ ，其期望值為\n",
    "\n",
    "$$\n",
    "\\mu = \\mathbb{E}(X) = \\sum_{x \\in R_X} x \\cdot f_X(x)\n",
    "$$\n",
    "\n",
    "其中 $R_X$ 為隨機變數 $X$ 的值域，而 $f_X(x)$ 為 $X$ 的**機率質量函數**。\n",
    "```\n",
    "````\n",
    "````{tab} 連續型隨機變數\n",
    "```{admonition} 定義\n",
    "連續型隨機變數 $X$ ，其期望值為\n",
    "\n",
    "$$\n",
    "\\mu = \\mathbb{E}(X) = \\int_{x \\in R_X} x f_X(x) dx\n",
    "$$\n",
    "\n",
    "其中 $R_X$ 為隨機變數 $X$ 的值域，而 $f_X(x)$ 為 $X$ 的**機率密度函數**。\n",
    "\n",
    "```\n",
    "````"
   ],
   "metadata": {}
  },
  {
   "cell_type": "markdown",
   "source": [
    "## 變異數\n",
    "\n",
    "````{tab} 離散型隨機變數\n",
    "```{admonition} 定義\n",
    "離散型隨機變數 $X$ ，其變異數為\n",
    "\n",
    "$$\n",
    "\\sigma^2 = Var(X) & = \\sum_{x \\in R_X} (x - \\mathbb{E}(X))^2 f_X(x) \\\\\n",
    "& = \\sum_{x \\in R_X} x^2 f_X(x) - \\mathbb{E}(X)^2 \\\\\n",
    "& = \\mathbb{E}(X^2) - \\mathbb{E}(X)^2\n",
    "$$\n",
    "\n",
    "其中 $R_X$ 為隨機變數 $X$ 的值域，而 $f_X(x)$ 為 $X$ 的**機率質量函數**。\n",
    "```\n",
    "````\n",
    "````{tab} 連續型隨機變數\n",
    "```{admonition} 定義\n",
    "連續型隨機變數 $X$ ，其變異數為\n",
    "\n",
    "$$\n",
    "\\begin{split}\n",
    "\\sigma^2 = Var(X) & = \\int_{x \\in R_X} (x - \\mathbb{E}(X))^2 f_X(x) dx \\\\\n",
    "& = \\int_{x \\in R_X} x^2 f_X(x) dx - \\mathbb{E}(X)^2 \\\\\n",
    "& = \\mathbb{E}(X^2) - \\mathbb{E}(X)^2\n",
    "\\end{split}\n",
    "$$\n",
    "\n",
    "其中 $R_X$ 為隨機變數 $X$ 的值域，而 $f_X(x)$ 為 $X$ 的**機率密度函數**。\n",
    "```\n",
    "````"
   ],
   "metadata": {}
  },
  {
   "cell_type": "markdown",
   "source": [
    "## 偏態\n",
    "\n",
    "````{tab} 離散型隨機變數\n",
    "```{admonition} 定義\n",
    "離散型隨機變數 $X$ 的峰態，其定義為\n",
    "\n",
    "$$\n",
    "S(X)  = \\sum_{x \\in R_X} (x - \\mathbb{E}(X))^3 f_X(x)\n",
    "$$\n",
    "\n",
    "```\n",
    "````\n",
    "````{tab} 連續型隨機變數\n",
    "```{admonition} 定義\n",
    "連續型隨機變數 $X$ 的峰態，其定義為\n",
    "\n",
    "$$\n",
    "S(X)  = \\int_{x \\in R_X} (x - \\mathbb{E}(X))^3 f_X(x) dx\n",
    "$$\n",
    "\n",
    "```\n",
    "````\n"
   ],
   "metadata": {}
  },
  {
   "cell_type": "markdown",
   "source": [
    "## 峰態\n",
    "\n",
    "````{tab} 離散型隨機變數\n",
    "```{admonition} 定義\n",
    "離散型隨機變數 $X$ 的峰態，其定義為\n",
    "\n",
    "$$\n",
    "K(X)  = \\sum_{x \\in R_X} (x - \\mathbb{E}(X))^4 f_X(x)\n",
    "$$\n",
    "\n",
    "```\n",
    "````\n",
    "````{tab} 連續型隨機變數\n",
    "```{admonition} 定義\n",
    "連續型隨機變數 $X$ 的峰態，其定義為\n",
    "\n",
    "$$\n",
    "K(X)  = \\int_{x \\in R_X} (x - \\mathbb{E}(X))^4 f_X(x) dx\n",
    "$$\n",
    "\n",
    "```\n",
    "````"
   ],
   "metadata": {}
  },
  {
   "cell_type": "markdown",
   "source": [
    "## 動差"
   ],
   "metadata": {}
  }
 ],
 "metadata": {
  "orig_nbformat": 4,
  "language_info": {
   "name": "python"
  }
 },
 "nbformat": 4,
 "nbformat_minor": 2
}