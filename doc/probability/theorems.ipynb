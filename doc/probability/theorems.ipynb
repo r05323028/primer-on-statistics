{
 "metadata": {
  "language_info": {
   "codemirror_mode": {
    "name": "ipython",
    "version": 3
   },
   "file_extension": ".py",
   "mimetype": "text/x-python",
   "name": "python",
   "nbconvert_exporter": "python",
   "pygments_lexer": "ipython3",
   "version": 3
  },
  "orig_nbformat": 4
 },
 "nbformat": 4,
 "nbformat_minor": 2,
 "cells": [
  {
   "source": [
    "# 重要定理\n",
    "\n",
    "## 排容原理\n",
    "\n",
    "```{admonition} 定義\n",
    "樣本空間 $\\mathcal{S}$ 的事件 $A_1, A_2, ..., A_n$ ，滿足\n",
    "\n",
    "$$\n",
    "\\mathbb{P}(\\bigcup_{i=1}^n A_i) = \\sum_{k=1}^n(-1)^{k-1} \\sum_{\\substack{I \\subset \\{1, ..., n\\} \\\\ |I| = l}} \\mathbb{P}(A_I)\n",
    "$$\n",
    "\n",
    "```\n",
    "\n",
    "## De Morgan 定理\n",
    "\n",
    "```{admonition} 定義\n",
    "- $\\mathbb{P}[(\\bigcup_{i=1}^n A_i)^C] = \\bigcap_{i=1}^n \\mathbb{P}(A_i^C)$\n",
    "- $\\mathbb{P}[(\\bigcap_{i=1}^n A_i)^C] = \\bigcup_{i=1}^n \\mathbb{P}(A_i^C)$\n",
    "```\n",
    "\n",
    "## 全機率定理\n",
    "\n",
    "```{admonition} 定義\n",
    "假設 $\\{B_1, B_2, ..., B_n\\}$ 為樣本空間 $\\mathcal{S}$ 的**分割**，則對任意事件 $A$，\n",
    "\n",
    "$$\n",
    "\\mathbb{P}(A) = \\sum_{i=1}^n \\mathbb{P}(A \\cap B_i)\n",
    "$$\n",
    "\n",
    "且因為 $\\mathbb{P}(A \\cap B_i) = \\mathbb{P}(A | B_i) \\mathbb{P}(B_i)$ ，所以\n",
    "\n",
    "$$\n",
    "\\mathbb{P}(A) = \\sum_{i=1}^n \\mathbb{P}(A | B_i) \\mathbb{P}(B_i)\n",
    "$$\n",
    "\n",
    "```"
   ],
   "cell_type": "markdown",
   "metadata": {}
  }
 ]
}