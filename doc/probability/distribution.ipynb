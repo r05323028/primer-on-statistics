{
 "metadata": {
  "language_info": {
   "codemirror_mode": {
    "name": "ipython",
    "version": 3
   },
   "file_extension": ".py",
   "mimetype": "text/x-python",
   "name": "python",
   "nbconvert_exporter": "python",
   "pygments_lexer": "ipython3",
   "version": 3
  },
  "orig_nbformat": 4
 },
 "nbformat": 4,
 "nbformat_minor": 2,
 "cells": [
  {
   "source": [
    "# 機率分配\n",
    "\n",
    "我們可以將機率分配想成：描述各個**隨機變數**的值發生機率的函數。\n",
    "\n",
    "以`連續投擲兩次公正銅板的正面次數`這個隨機變數 $X$ 為例:\n",
    "\n",
    "- 樣本空間為 $\\mathcal{S} = \\{(T, T), (T, H), (H, T), (H, H)\\}$\n",
    "- 隨機變數為函數 $X: \\mathcal{S} \\rightarrow \\mathbb{R}$ ，我們將樣本空間 $\\mathcal{S}$ 的**事件**映射到**實數**上，變成 $\\{0, 1, 1, 2\\}$\n",
    "- 樣本空間 $\\mathcal{S}$ 的樣本點發生機率都相同 (因為每次丟銅板出現正面或反面的機率都是相同的，舉例來說: `連續兩次反面`的機率會等於`第一次正面，第二次反面`的機率。)\n",
    "- 我們可以看作:\n",
    "\n",
    "$$\n",
    "\\begin{cases}\n",
    "\\frac{1}{4} & E = (T, T) \\\\\n",
    "\\frac{1}{4} & E = (T, H) \\\\\n",
    "\\frac{1}{4} & E = (H, T) \\\\\n",
    "\\frac{1}{4} & E = (H, H)\n",
    "\\end{cases}\n",
    "\\underset{\\implies}{映射}\n",
    "\\begin{cases}\n",
    "\\frac{1}{4} & X = 0 \\\\\n",
    "\\frac{1}{4} & X = 1 \\\\\n",
    "\\frac{1}{4} & X = 1 \\\\\n",
    "\\frac{1}{4} & X = 2\n",
    "\\end{cases}\n",
    "\\underset{\\implies}{合併}\n",
    "\\begin{cases}\n",
    "\\frac{1}{4} & X = 0 \\\\\n",
    "\\frac{1}{2} & X = 1 \\\\\n",
    "\\frac{1}{4} & X = 2\n",
    "\\end{cases}\n",
    "$$\n",
    "\n",
    "- 最後得到的式子，就是隨機變數 $X$ 的機率分配，在**離散隨機變數**的情況下，又可以稱作**機率質量函數**。"
   ],
   "cell_type": "markdown",
   "metadata": {}
  },
  {
   "source": [
    "## 離散型機率分配\n",
    "\n",
    "```{admonition} 機率質量函數 (probability mass function)\n",
    "給定離散型隨機變數 $X$ ，若函數 $f_X(x)$ 滿足\n",
    "\n",
    "- $0 \\leq f_X(x) \\leq 1, \\forall x \\in \\mathbb{R}$\n",
    "- $\\sum_{x \\in \\mathbb{R}} f_X(x) = 1$\n",
    "- $f_X(x \\in A) = \\sum_{x \\in A} f_X(x)$\n",
    "\n",
    "我們稱其為隨機變數 $X$ 的機率質量函數。\n",
    "```\n",
    "\n",
    "- 機率質量函數的值<span style=\"color:red\">**就是**</span>機率。\n",
    "\n",
    "## 連續型機率分配\n",
    "\n",
    "```{admonition} 機率密度函數 (probability density function)\n",
    "給定連續型隨機變數 $X$ ，若函數 $f_X(x)$ 滿足\n",
    "\n",
    "- $f_X(x) \\geq 0$\n",
    "- $\\int_{\\mathbb{R}}f_X(x)dx = 1$\n",
    "- $\\mathbb{P}(X \\in A) = \\int_{A} f_X(x) dx, A \\subset \\mathbb{R}$\n",
    "\n",
    "\n",
    "我們稱其為隨機變數 $X$ 的機率密度函數。\n",
    "\n",
    "```\n",
    "\n",
    "- 機率密度函數的值<span style=\"color:red\">**不是**</span>機率，機率需要對特定區域**積分**獲得。"
   ],
   "cell_type": "markdown",
   "metadata": {}
  }
 ]
}