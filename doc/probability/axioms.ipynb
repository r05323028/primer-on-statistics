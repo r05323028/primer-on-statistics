{
 "metadata": {
  "language_info": {
   "codemirror_mode": {
    "name": "ipython",
    "version": 3
   },
   "file_extension": ".py",
   "mimetype": "text/x-python",
   "name": "python",
   "nbconvert_exporter": "python",
   "pygments_lexer": "ipython3",
   "version": 3
  },
  "orig_nbformat": 4
 },
 "nbformat": 4,
 "nbformat_minor": 2,
 "cells": [
  {
   "source": [
    "# 機率公理\n",
    "\n",
    "這個公理最早是由 **Andrey Kolmogorov** 在1933年的著作{cite}`kolmogorov1950foundations`中提出，又稱作 **Kolmogorov 公理**，這個公理奠定了機率論的基礎。\n",
    "\n",
    "## 第一公理\n",
    "\n",
    "```{admonition} 定義\n",
    "對於樣本空間 $\\mathcal{S}$ 中的任一事件 $E \\in \\mathcal{S}$ ，須滿足 $\\mathbb{P}(E) >= 0$ 。\n",
    "```\n",
    "\n",
    "白話來說就是，在`所有可能發生的事件`中，其中任何一個`事件`發生的機率要大於等於0。\n",
    "\n",
    "## 第二公理\n",
    "\n",
    "```{admonition} 定義\n",
    "樣本空間 $\\mathcal{S}$ 發生的機率 $\\mathbb{P}(\\mathcal{S}) = 1$ 。\n",
    "```\n",
    "\n",
    "第二公理意思就是說，如果有個事件他考慮了所有**樣本空間**裡面的**事件**，那他發生的機率一定是等於1。\n",
    "\n",
    "舉例來說，丟銅板的樣本空間 $\\mathcal{S} = \\{Tail, Head \\}$ ，那有一個事件叫做`出現Head或是Tail我都要`，那這個事件發生的機率就等於1。\n",
    "\n",
    "## 第三公理\n",
    "\n",
    "```{admonition} 定義\n",
    "任意兩兩**互斥**事件的可數序列 $E_1, E_2, ...$ ， $\\forall E_i \\in \\mathcal{S}$ ，滿足 $\\mathbb{P}(E_1, E_2, ...) = \\sum_{i=1}^{\\infty} \\mathbb{P}(E_i)$ 。\n",
    "```\n"
   ],
   "cell_type": "markdown",
   "metadata": {}
  },
  {
   "source": [
    "## 引用\n",
    "\n",
    "```{bibliography}\n",
    "```"
   ],
   "cell_type": "markdown",
   "metadata": {}
  }
 ]
}