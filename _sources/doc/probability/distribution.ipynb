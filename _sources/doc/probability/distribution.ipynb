{
 "metadata": {
  "language_info": {
   "codemirror_mode": {
    "name": "ipython",
    "version": 3
   },
   "file_extension": ".py",
   "mimetype": "text/x-python",
   "name": "python",
   "nbconvert_exporter": "python",
   "pygments_lexer": "ipython3",
   "version": 3
  },
  "orig_nbformat": 4
 },
 "nbformat": 4,
 "nbformat_minor": 2,
 "cells": [
  {
   "source": [
    "# 機率分配"
   ],
   "cell_type": "markdown",
   "metadata": {}
  },
  {
   "source": [
    "## 離散型機率分配\n",
    "\n",
    "```{admonition} 機率質量函數 (probability mass function)\n",
    "給定離散型隨機變數 $X$ ，若函數 $p_X(x) = \\mathbb{P}(X = x)$ 滿足\n",
    "\n",
    "- $0 \\leq p_X(x) \\leq 1, \\forall x \\in \\mathbb{R}$\n",
    "- $\\sum_{x \\in \\mathbb{R}} p_X(x) = 1$\n",
    "- $p_X(x \\in A) = \\sum_{x \\in A} p_X(x)$\n",
    "\n",
    "我們稱其為隨機變數 $X$ 的機率質量函數。\n",
    "```\n",
    "\n",
    "## 連續型機率分配\n",
    "\n",
    "```{admonition} 機率密度函數 (probability density function)\n",
    "給定連續型隨機變數 $X$ ，若函數 $f_X(x)$ 滿足\n",
    "\n",
    "- $f_X(x) \\geq 0$\n",
    "- $\\int_{\\mathbb{R}}f_X(x)dx = 1$\n",
    "- $\\mathbb{P}(X \\in A) = \\int_{A} f_X(x) dx, A \\subset \\mathbb{R}$\n",
    "\n",
    "\n",
    "我們稱其為隨機變數 $X$ 的機率密度函數。\n",
    "\n",
    "```"
   ],
   "cell_type": "markdown",
   "metadata": {}
  }
 ]
}