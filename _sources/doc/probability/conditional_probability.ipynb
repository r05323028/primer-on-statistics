{
 "metadata": {
  "language_info": {
   "codemirror_mode": {
    "name": "ipython",
    "version": 3
   },
   "file_extension": ".py",
   "mimetype": "text/x-python",
   "name": "python",
   "nbconvert_exporter": "python",
   "pygments_lexer": "ipython3",
   "version": 3
  },
  "orig_nbformat": 4
 },
 "nbformat": 4,
 "nbformat_minor": 2,
 "cells": [
  {
   "source": [
    "# 條件機率\n",
    "\n",
    "```{admonition} 定義\n",
    "給定 $\\mathbb{P}(B) > 0$ ，則\n",
    "\n",
    "$$\n",
    "\\mathbb{P}(A|B) = \\frac{\\mathbb{P}(A \\cap B)}{\\mathbb{P}(B)}\n",
    "$$\n",
    "```\n",
    "\n",
    "## 統計上的獨立\n",
    "\n",
    "```{admonition} 定義\n",
    "若兩事件 $A$ 與 $B$ 相互獨立，則\n",
    "\n",
    "$$\n",
    "\\mathbb{P}(A \\cap B) = \\mathbb{P}(A) \\cdot \\mathbb{P}(B)\n",
    "$$\n",
    "```\n",
    "\n",
    "- 因為 $\\mathbb{P}(A \\cap B) = \\mathbb{P}(A|B) \\cdot \\mathbb{P}(B)$，可以得到 $\\mathbb{P}(A|B) \\mathbb{P}(B) = \\mathbb{P}(A) \\mathbb{P}(B)$ ，消掉兩邊的 $\\mathbb{P}(B)$ 以後，可以得到 $\\color{red}{\\mathbb{P}(A|B) = \\mathbb{P}(A)}$ 。\n",
    "- $\\mathbb{P}(A|B) = \\mathbb{P}(A)$ 的意涵為，不論有沒有給定 $B$ 都不影響 $A$ 發生的機率，所以可以說兩者**獨立**。"
   ],
   "cell_type": "markdown",
   "metadata": {}
  }
 ]
}