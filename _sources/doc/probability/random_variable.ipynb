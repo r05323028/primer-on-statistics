{
 "metadata": {
  "language_info": {
   "codemirror_mode": {
    "name": "ipython",
    "version": 3
   },
   "file_extension": ".py",
   "mimetype": "text/x-python",
   "name": "python",
   "nbconvert_exporter": "python",
   "pygments_lexer": "ipython3",
   "version": 3
  },
  "orig_nbformat": 4
 },
 "nbformat": 4,
 "nbformat_minor": 2,
 "cells": [
  {
   "source": [
    "# 隨機變數\n",
    "\n",
    "隨機變數，顧名思義，他是一個`變數`而且是`隨機`的。\n",
    "\n",
    "```{admonition} 定義\n",
    "給定隨機變數 $X$ ，需滿足 $X: \\mathcal{S} \\rightarrow \\mathbb{R}$ ，其中 $\\mathcal{S}$ 為樣本空間， $\\mathbb{R}$ 為實數域。\n",
    "```\n",
    "\n",
    "從定義上來看，只要有一個函數 $X$ 能夠把樣本空間 $\\mathcal{S}$ 中的事件映射到實數域上， $X$ 就能被稱作隨機變數。\n",
    "\n",
    "以擲骰子為例，隨機變數 $X$ 為`骰子擲出的點數`，其中:\n",
    "\n",
    "- $X(擲出1) = 1$\n",
    "- $X(擲出2) = 2$ ...以此類推\n",
    "\n",
    "我們可以把骰子`擲出點數N`的事件映射到 $\\{1, 2, 3, 4, 5, 6\\}$ ，因此符合隨機變數的定義。"
   ],
   "cell_type": "markdown",
   "metadata": {}
  },
  {
   "cell_type": "code",
   "execution_count": null,
   "metadata": {},
   "outputs": [],
   "source": []
  }
 ]
}